{
 "cells": [
  {
   "cell_type": "markdown",
   "metadata": {},
   "source": [
    "# Gravitational Orbits in Cartesian Coordinates\n",
    "Created By: Autumn Stephens <br>\n",
    "Creation Date: 3/26/2023"
   ]
  },
  {
   "cell_type": "code",
   "execution_count": 1,
   "metadata": {},
   "outputs": [],
   "source": [
    "### Imports necessary packages\n",
    "import numpy as np\n",
    "import matplotlib.pyplot as plt\n",
    "from scipy.integrate import solve_ivp"
   ]
  },
  {
   "cell_type": "markdown",
   "metadata": {},
   "source": [
    "Consider a system of two bodies with masses $m_1$ and $m_2$ located at $r_1=(x_1, y_1, z_1)$ and $r_2=(x_1, y_1, z_1)$. In Newtonian mechanics, the gravitational force between the two bodies is given by\n",
    "\n",
    "\\begin{equation}\n",
    "F_g = \\frac{G m_1 m_2}{r^2} \\hat{r}\n",
    "\\end{equation}\n",
    "\n",
    "where $r=|r_2-r_1|$. Since the acceleration on each body relates to the gravitational force by \n",
    "\n",
    "\\begin{equation}\n",
    "F_g = m \\frac{d^2 r}{dt^2} \\hat{r} \n",
    "\\end{equation}\n",
    "\n",
    "Hence, the acceleration of body 1 at any moment is given by\n",
    "\n",
    "\\begin{equation}\n",
    "\\frac{d^2 r}{dt^2} = \\frac{G m_2}{r^2} \\hat{r} = \\frac{G m_2 (r_2-r_1)}{|r_2-r_1|^3}\n",
    "\\end{equation}\n",
    "\n",
    "By symmetry, the acceleration of body 2 at any moment is given by\n",
    "\n",
    "\\begin{equation}\n",
    "\\frac{d^2 r}{dt^2} = \\frac{G m_1}{r^2} \\hat{r} = \\frac{G m_1 (r_2-r_1)}{|r_2-r_1|^3}\n",
    "\\end{equation}\n",
    "\n",
    "In my TwoBodyProblem class, these are the differential equations solved by the solve_ivp() function. Note that the user specifies the initial velocity of each of these bodies, do a derivation of each equation is not necessary. However, we should note the limiting case where $m_1 >> m_2$, as is the case with most exoplanets orbiting around a host star. In these cases, the large mass $m_1$ is nearly at rest because the gravitational attraction of the smaller mass is much smaller than the large mass's inertia. Hence, we can reduce the problem to a single-body problem where only the smaller mass is in motion. We will see an example of this below when we simulate Earth's orbit around the Sun."
   ]
  },
  {
   "cell_type": "code",
   "execution_count": 2,
   "metadata": {},
   "outputs": [],
   "source": [
    "class TwoBodyProblem:\n",
    "    def __init__(self, m1, m2, r1, r2, v1, v2, G = 6.67430e-11):\n",
    "        \n",
    "        \"\"\"\n",
    "        Initializes TwoBodyProblem object with user-specified conditions\n",
    "\n",
    "        Arguments:\n",
    "        m1 : float \n",
    "            mass of body 1\n",
    "        m2 : float\n",
    "            mass of body 2\n",
    "        r1 : numpy.ndarray\n",
    "            initial position vector of body 1\n",
    "        r2 : numpy.ndarray\n",
    "            initial position vector of body 2\n",
    "        v1 : numpy.ndarray\n",
    "            initial velocity vector of body 1\n",
    "        v2 : numpy.ndarray\n",
    "            initial velocity vector of body 2\n",
    "        \"\"\"\n",
    "        \n",
    "        ### Initializes system parameters\n",
    "        self.m1 = m1\n",
    "        self.m2 = m2\n",
    "        self.r1 = r1\n",
    "        self.r2 = r2\n",
    "        self.v1 = v1\n",
    "        self.v2 = v2\n",
    "        self.G = G\n",
    "        self.r0 = np.array([r1, r2, v1, v2]).flatten() # initial state vector\n",
    "    \n",
    "    def rhs_func(self, t, y):\n",
    "        \"\"\"\n",
    "        Calculates right-hand side of the differential equation as a function of time and the state vector.\n",
    "\n",
    "        Arguments:\n",
    "        t : float\n",
    "            current time\n",
    "        y : numpy.ndarray\n",
    "            current state vector\n",
    "\n",
    "        Returns:\n",
    "        dy/dt : numpy.ndarray\n",
    "            derivative of the state vector\n",
    "        \"\"\"\n",
    "        \n",
    "        ### Extracts body parameters from y vector\n",
    "        r1 = y[0:3]\n",
    "        r2 = y[3:6]\n",
    "        v1 = y[6:9]\n",
    "        v2 = y[9:12]\n",
    "        \n",
    "        ### Calculates r vector and its magnitude\n",
    "        r12 = r2 - r1\n",
    "        norm_r12 = np.linalg.norm(r12)\n",
    "        \n",
    "        ### Defines the speed and acceleration of each body\n",
    "        dr1_dt = v1\n",
    "        dr2_dt = v2\n",
    "        dv1_dt = (self.G * self.m2 / norm_r12**3) * r12\n",
    "        dv2_dt = -(self.G * self.m1 / norm_r12**3) * r12\n",
    "        \n",
    "        return np.concatenate([dr1_dt, dr2_dt, dv1_dt, dv2_dt])\n",
    "    \n",
    "    def solve(self, t_span, t_eval):\n",
    "        \n",
    "        \"\"\"\n",
    "        Solves the differential equation using the solve_ivp function\n",
    "\n",
    "        Arguments:\n",
    "        t_span : tuple\n",
    "            initial and final times\n",
    "        t_eval : array\n",
    "            times to evaluate solution over\n",
    "        \"\"\"\n",
    "        \n",
    "        ### Solves the differential equation\n",
    "        sol = solve_ivp(self.rhs_func, t_span, self.r0, t_eval=t_eval, rtol=1e-6, atol=1e-9)\n",
    "        self.t = sol.t\n",
    "        self.r = sol.y[:6].T\n",
    "        self.v = sol.y[6:].T\n",
    "        \n",
    "    def solve_leapfrog(self, t_span, t_eval):\n",
    "        \n",
    "        \"\"\"\n",
    "        Solves the differential equation using the Leapfrog method\n",
    "\n",
    "        Arguments:\n",
    "        t_span : tuple \n",
    "            initial and final times\n",
    "        t_eval : array \n",
    "            times to evaluate solution over\n",
    "        \"\"\"\n",
    "        \n",
    "        ### Calculate time steps #\n",
    "        n_steps = len(t_eval) - 1\n",
    "\n",
    "        ### Initialize arrays for positions and velocities\n",
    "        r = np.zeros((n_steps+1, 2, 3))\n",
    "        v = np.zeros((n_steps+1, 2, 3))\n",
    "        r[0] = np.array([self.r1, self.r2])\n",
    "        v[0] = np.array([self.v1, self.v2])\n",
    "\n",
    "        ### Calculate time step\n",
    "        dt = t_eval[1] - t_eval[0]\n",
    "\n",
    "        ### Calculate first half-step velocities\n",
    "        r12 = r[0,1] - r[0,0]\n",
    "        norm_r12 = np.linalg.norm(r12)\n",
    "        a1 = (self.G * self.m2 / norm_r12**3) * r12\n",
    "        a2 = -(self.G * self.m1 / norm_r12**3) * r12\n",
    "        v[0,0] += 0.5*dt*a1\n",
    "        v[0,1] += 0.5*dt*a2\n",
    "\n",
    "        ### Iterate over time steps\n",
    "        for i in range(n_steps):\n",
    "            \n",
    "            ### Update positions using current velocities\n",
    "            r[i+1] = r[i] + dt*v[i]\n",
    "\n",
    "            ### Calculate acceleration at new positions\n",
    "            r12 = r[i+1,1] - r[i+1,0]\n",
    "            norm_r12 = np.linalg.norm(r12)\n",
    "            a1 = (self.G * self.m2 / norm_r12**3) * r12\n",
    "            a2 = -(self.G * self.m1 / norm_r12**3) * r12\n",
    "\n",
    "            ### Update velocities using new and old accelerations\n",
    "            v[i+1,0] = v[i,0] + dt*a1\n",
    "            v[i+1,1] = v[i,1] + dt*a2\n",
    "\n",
    "        self.t = t_eval\n",
    "        self.r = r\n",
    "        self.v = v"
   ]
  },
  {
   "cell_type": "code",
   "execution_count": 3,
   "metadata": {},
   "outputs": [
    {
     "data": {
      "image/png": "[encoded data removed]",
      "text/plain": [
       "<Figure size 432x288 with 1 Axes>"
      ]
     },
     "metadata": {
      "needs_background": "light"
     },
     "output_type": "display_data"
    }
   ],
   "source": [
    "### Instantiate the TwoBodyProblem class\n",
    "m_earth = 5.972e24\n",
    "m_sun = 1.989e30\n",
    "r_earth = np.array([147e9, 0, 0])\n",
    "r_sun = np.array([0, 0, 0])\n",
    "v_earth = np.array([0, 30.29e3, 0])\n",
    "v_sun = np.array([0, 0, 0])\n",
    "earth_sun = TwoBodyProblem(m_earth, m_sun, r_earth, r_sun, v_earth, v_sun)\n",
    "\n",
    "### Solve for time of one year\n",
    "t_span = (0, 365 * 24 * 3600) # one year in seconds\n",
    "t_eval = np.linspace(0, 365 * 24 * 3600, 365)\n",
    "earth_sun.solve(t_span, t_eval)\n",
    "\n",
    "### Plot parameterized plot of each orbit\n",
    "plt.plot(earth_sun.r[:, 0], earth_sun.r[:, 1], label='Earth')\n",
    "plt.plot(earth_sun.r[:, 3], earth_sun.r[:, 4], label='Sun')\n",
    "\n",
    "### Plot labels\n",
    "plt.axis('equal')\n",
    "plt.title('Orbit of the Earth around the Sun')\n",
    "plt.xlabel('x (m)')\n",
    "plt.ylabel('y (m)')\n",
    "plt.legend()\n",
    "plt.show()"
   ]
  },
  {
   "cell_type": "markdown",
   "metadata": {},
   "source": [
    "As expected, the Sun is functionally stationary, and the Earth orbits about it in a circle. To prove the class is still working as intended, though, here is another simulation where the masses of each body are more similar to each other."
   ]
  },
  {
   "cell_type": "code",
   "execution_count": 4,
   "metadata": {},
   "outputs": [
    {
     "data": {
      "image/png": "[encoded data removed]",
      "text/plain": [
       "<Figure size 432x288 with 1 Axes>"
      ]
     },
     "metadata": {
      "needs_background": "light"
     },
     "output_type": "display_data"
    }
   ],
   "source": [
    "### Instantiate the TwoBodyProblem class\n",
    "m_1 = 1\n",
    "m_2 = 5\n",
    "r_1 = np.array([1, 1, 0])\n",
    "r_2 = np.array([-(m_1/m_2) * r_1[0], -(m_1/m_2) * r_1[1], 0])\n",
    "v_1 = np.array([-1, 1, 0])\n",
    "v_2 = np.array([-(m_1/m_2) * v_1[0], -(m_1/m_2) * v_1[1], 0])\n",
    "earth_sun = TwoBodyProblem(m_1, m_2, r_1, r_2, v_1, v_2, G=1)\n",
    "\n",
    "### Solve for time of 10 seconds\n",
    "t_span = (0, 10) # one year in seconds\n",
    "t_eval = np.arange(0, 10, 0.01)\n",
    "earth_sun.solve(t_span, t_eval)\n",
    "\n",
    "### Plot parameterized plot of each orbit\n",
    "plt.plot(earth_sun.r[:, 0], earth_sun.r[:, 1], label='Earth')\n",
    "plt.plot(earth_sun.r[:, 3], earth_sun.r[:, 4], label='Sun')\n",
    "\n",
    "### Plot labels\n",
    "plt.axis('equal')\n",
    "plt.title('Orbit of the Earth around the Sun')\n",
    "plt.xlabel('x (m)')\n",
    "plt.ylabel('y (m)')\n",
    "plt.legend()\n",
    "plt.show()"
   ]
  },
  {
   "cell_type": "markdown",
   "metadata": {},
   "source": [
    "## Energy Conservation Analysis\n",
    "\n",
    "For our two-body system, the total energy is simply given by\n",
    "\n",
    "\\begin{align}\n",
    "E &= T + U  \\\\\\\\\n",
    "  &= (\\frac{1}{2} m_1 v_1^2 + \\frac{1}{2} m_2 v_2^2) - \\frac{G m_1 m_2}{r^2} \\\\\\\\\n",
    "E &= \\frac{1}{2}(m_1 v_1^2 + m_2 v_2^2) - \\frac{G m_1 m_2}{(r_2-r_1)^2}\n",
    "\\end{align}\n",
    "\n",
    "So, by calculating the energy in our simulations at each point in time, we can determine how much energy is lost."
   ]
  },
  {
   "cell_type": "code",
   "execution_count": 9,
   "metadata": {},
   "outputs": [],
   "source": [
    "def calc_energies(instance):\n",
    "    \n",
    "    m1, m2 = instance.m1, instance.m2\n",
    "    r1, r2 = instance.r[:,0:3], instance.r[:,3:6]\n",
    "    v1, v2 = instance.v[:,0:3], instance.v[:,3:6]\n",
    "    \n",
    "    T = [1/2 * (m1*np.linalg.norm(a)**2 + m2*np.linalg.norm(b)**2) for a, b in zip(v1, v2)]\n",
    "    U = [-(instance.G*m1*m2)/(np.linalg.norm(a)-np.linalg.norm(b))**2 for a, b in zip(r1, r2)]\n",
    "    E = [kinetic + potential for kinetic, potential in zip(T, U)]\n",
    "    \n",
    "    return T, U, E"
   ]
  },
  {
   "cell_type": "code",
   "execution_count": 13,
   "metadata": {},
   "outputs": [
    {
     "data": {
      "text/plain": [
       "[<matplotlib.lines.Line2D at 0x7fb890c39340>]"
      ]
     },
     "execution_count": 13,
     "metadata": {},
     "output_type": "execute_result"
    },
    {
     "data": {
      "image/png": "[encoded data removed]",
      "text/plain": [
       "<Figure size 432x288 with 1 Axes>"
      ]
     },
     "metadata": {
      "needs_background": "light"
     },
     "output_type": "display_data"
    }
   ],
   "source": [
    "### Instantiate the TwoBodyProblem class\n",
    "m_earth = 5.972e24\n",
    "m_sun = 1.989e30\n",
    "r_earth = np.array([147e9, 0, 0])\n",
    "r_sun = np.array([0, 0, 0])\n",
    "v_earth = np.array([0, 30.29e3, 0])\n",
    "v_sun = np.array([0, 0, 0])\n",
    "earth_sun = TwoBodyProblem(m_earth, m_sun, r_earth, r_sun, v_earth, v_sun)\n",
    "\n",
    "### Solve for time of one year\n",
    "t_span = (0, 2 * 365 * 24 * 3600) # one year in seconds\n",
    "t_eval = np.linspace(0, 2 * 365 * 24 * 3600, 365)\n",
    "earth_sun.solve(t_span, t_eval)\n",
    "\n",
    "T, U, E = calc_energies(earth_sun)\n",
    "\n",
    "plt.plot(earth_sun.t, E)"
   ]
  },
  {
   "cell_type": "code",
   "execution_count": null,
   "metadata": {},
   "outputs": [],
   "source": []
  }
 ],
 "metadata": {
  "kernelspec": {
   "display_name": "Python 3.8 (py38)",
   "language": "python",
   "name": "py38"
  },
  "language_info": {
   "codemirror_mode": {
    "name": "ipython",
    "version": 3
   },
   "file_extension": ".py",
   "mimetype": "text/x-python",
   "name": "python",
   "nbconvert_exporter": "python",
   "pygments_lexer": "ipython3",
   "version": "3.8.5"
  }
 },
 "nbformat": 4,
 "nbformat_minor": 4
}
